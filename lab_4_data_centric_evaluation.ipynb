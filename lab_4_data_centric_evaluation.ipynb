{
  "nbformat": 4,
  "nbformat_minor": 0,
  "metadata": {
    "colab": {
      "provenance": [],
      "authorship_tag": "ABX9TyMTGjoINni/uIbByFsX+GUq",
      "include_colab_link": true
    },
    "kernelspec": {
      "name": "python3",
      "display_name": "Python 3"
    },
    "language_info": {
      "name": "python"
    }
  },
  "cells": [
    {
      "cell_type": "markdown",
      "metadata": {
        "id": "view-in-github",
        "colab_type": "text"
      },
      "source": [
        "<a href=\"https://colab.research.google.com/github/01PrathamS/DCAI_Practice/blob/main/lab_4_data_centric_evaluation.ipynb\" target=\"_parent\"><img src=\"https://colab.research.google.com/assets/colab-badge.svg\" alt=\"Open In Colab\"/></a>"
      ]
    },
    {
      "cell_type": "code",
      "execution_count": null,
      "metadata": {
        "id": "nlUx90FKBn58"
      },
      "outputs": [],
      "source": [
        "!pip install cleanlab"
      ]
    },
    {
      "cell_type": "code",
      "source": [
        "import pandas as pd\n",
        "import numpy as np\n",
        "import sklearn\n",
        "\n",
        "from sklearn.neural_network import MLPClassifier\n",
        "from sklearn.metrics import balanced_accuracy_score\n",
        "\n",
        "import matplotlib.pyplot as plt\n",
        "%matplotlib inline"
      ],
      "metadata": {
        "id": "kANCcfXfiYtH"
      },
      "execution_count": 73,
      "outputs": []
    },
    {
      "cell_type": "code",
      "source": [
        "SEED = 123\n",
        "np.random.seed(SEED)"
      ],
      "metadata": {
        "id": "PzOKHd0viyVJ"
      },
      "execution_count": 74,
      "outputs": []
    },
    {
      "cell_type": "code",
      "source": [
        "df = pd.read_csv('/content/train_dcai_evaluation.csv')\n",
        "df_test = pd.read_csv('/content/train_dcai_evaluation.csv')"
      ],
      "metadata": {
        "id": "EBCGYXBgi4kE"
      },
      "execution_count": 75,
      "outputs": []
    },
    {
      "cell_type": "code",
      "source": [
        "df.head()"
      ],
      "metadata": {
        "colab": {
          "base_uri": "https://localhost:8080/",
          "height": 206
        },
        "id": "i9PIjkkNjCrG",
        "outputId": "5682ddd7-c7a0-4639-faed-e09ba507afe6"
      },
      "execution_count": 76,
      "outputs": [
        {
          "output_type": "execute_result",
          "data": {
            "text/plain": [
              "         x0        x1        x2        x3        x4     x5  y\n",
              "0 -0.333489 -0.770208 -2.697486 -0.628563 -1.277720  100.0  2\n",
              "1 -0.787124  1.230800  1.415472 -0.805927  0.175115  100.0  1\n",
              "2  0.781197 -0.856227  2.138879  2.495417  0.868192  100.0  1\n",
              "3  1.895093 -0.885939  1.946352 -2.082747  0.064914  100.0  1\n",
              "4  0.689091 -5.091299 -2.218682  0.330767  3.012755  100.0  2"
            ],
            "text/html": [
              "\n",
              "  <div id=\"df-71f3d265-b94d-4f4c-b65b-b83ada485e9c\" class=\"colab-df-container\">\n",
              "    <div>\n",
              "<style scoped>\n",
              "    .dataframe tbody tr th:only-of-type {\n",
              "        vertical-align: middle;\n",
              "    }\n",
              "\n",
              "    .dataframe tbody tr th {\n",
              "        vertical-align: top;\n",
              "    }\n",
              "\n",
              "    .dataframe thead th {\n",
              "        text-align: right;\n",
              "    }\n",
              "</style>\n",
              "<table border=\"1\" class=\"dataframe\">\n",
              "  <thead>\n",
              "    <tr style=\"text-align: right;\">\n",
              "      <th></th>\n",
              "      <th>x0</th>\n",
              "      <th>x1</th>\n",
              "      <th>x2</th>\n",
              "      <th>x3</th>\n",
              "      <th>x4</th>\n",
              "      <th>x5</th>\n",
              "      <th>y</th>\n",
              "    </tr>\n",
              "  </thead>\n",
              "  <tbody>\n",
              "    <tr>\n",
              "      <th>0</th>\n",
              "      <td>-0.333489</td>\n",
              "      <td>-0.770208</td>\n",
              "      <td>-2.697486</td>\n",
              "      <td>-0.628563</td>\n",
              "      <td>-1.277720</td>\n",
              "      <td>100.0</td>\n",
              "      <td>2</td>\n",
              "    </tr>\n",
              "    <tr>\n",
              "      <th>1</th>\n",
              "      <td>-0.787124</td>\n",
              "      <td>1.230800</td>\n",
              "      <td>1.415472</td>\n",
              "      <td>-0.805927</td>\n",
              "      <td>0.175115</td>\n",
              "      <td>100.0</td>\n",
              "      <td>1</td>\n",
              "    </tr>\n",
              "    <tr>\n",
              "      <th>2</th>\n",
              "      <td>0.781197</td>\n",
              "      <td>-0.856227</td>\n",
              "      <td>2.138879</td>\n",
              "      <td>2.495417</td>\n",
              "      <td>0.868192</td>\n",
              "      <td>100.0</td>\n",
              "      <td>1</td>\n",
              "    </tr>\n",
              "    <tr>\n",
              "      <th>3</th>\n",
              "      <td>1.895093</td>\n",
              "      <td>-0.885939</td>\n",
              "      <td>1.946352</td>\n",
              "      <td>-2.082747</td>\n",
              "      <td>0.064914</td>\n",
              "      <td>100.0</td>\n",
              "      <td>1</td>\n",
              "    </tr>\n",
              "    <tr>\n",
              "      <th>4</th>\n",
              "      <td>0.689091</td>\n",
              "      <td>-5.091299</td>\n",
              "      <td>-2.218682</td>\n",
              "      <td>0.330767</td>\n",
              "      <td>3.012755</td>\n",
              "      <td>100.0</td>\n",
              "      <td>2</td>\n",
              "    </tr>\n",
              "  </tbody>\n",
              "</table>\n",
              "</div>\n",
              "    <div class=\"colab-df-buttons\">\n",
              "\n",
              "  <div class=\"colab-df-container\">\n",
              "    <button class=\"colab-df-convert\" onclick=\"convertToInteractive('df-71f3d265-b94d-4f4c-b65b-b83ada485e9c')\"\n",
              "            title=\"Convert this dataframe to an interactive table.\"\n",
              "            style=\"display:none;\">\n",
              "\n",
              "  <svg xmlns=\"http://www.w3.org/2000/svg\" height=\"24px\" viewBox=\"0 -960 960 960\">\n",
              "    <path d=\"M120-120v-720h720v720H120Zm60-500h600v-160H180v160Zm220 220h160v-160H400v160Zm0 220h160v-160H400v160ZM180-400h160v-160H180v160Zm440 0h160v-160H620v160ZM180-180h160v-160H180v160Zm440 0h160v-160H620v160Z\"/>\n",
              "  </svg>\n",
              "    </button>\n",
              "\n",
              "  <style>\n",
              "    .colab-df-container {\n",
              "      display:flex;\n",
              "      gap: 12px;\n",
              "    }\n",
              "\n",
              "    .colab-df-convert {\n",
              "      background-color: #E8F0FE;\n",
              "      border: none;\n",
              "      border-radius: 50%;\n",
              "      cursor: pointer;\n",
              "      display: none;\n",
              "      fill: #1967D2;\n",
              "      height: 32px;\n",
              "      padding: 0 0 0 0;\n",
              "      width: 32px;\n",
              "    }\n",
              "\n",
              "    .colab-df-convert:hover {\n",
              "      background-color: #E2EBFA;\n",
              "      box-shadow: 0px 1px 2px rgba(60, 64, 67, 0.3), 0px 1px 3px 1px rgba(60, 64, 67, 0.15);\n",
              "      fill: #174EA6;\n",
              "    }\n",
              "\n",
              "    .colab-df-buttons div {\n",
              "      margin-bottom: 4px;\n",
              "    }\n",
              "\n",
              "    [theme=dark] .colab-df-convert {\n",
              "      background-color: #3B4455;\n",
              "      fill: #D2E3FC;\n",
              "    }\n",
              "\n",
              "    [theme=dark] .colab-df-convert:hover {\n",
              "      background-color: #434B5C;\n",
              "      box-shadow: 0px 1px 3px 1px rgba(0, 0, 0, 0.15);\n",
              "      filter: drop-shadow(0px 1px 2px rgba(0, 0, 0, 0.3));\n",
              "      fill: #FFFFFF;\n",
              "    }\n",
              "  </style>\n",
              "\n",
              "    <script>\n",
              "      const buttonEl =\n",
              "        document.querySelector('#df-71f3d265-b94d-4f4c-b65b-b83ada485e9c button.colab-df-convert');\n",
              "      buttonEl.style.display =\n",
              "        google.colab.kernel.accessAllowed ? 'block' : 'none';\n",
              "\n",
              "      async function convertToInteractive(key) {\n",
              "        const element = document.querySelector('#df-71f3d265-b94d-4f4c-b65b-b83ada485e9c');\n",
              "        const dataTable =\n",
              "          await google.colab.kernel.invokeFunction('convertToInteractive',\n",
              "                                                    [key], {});\n",
              "        if (!dataTable) return;\n",
              "\n",
              "        const docLinkHtml = 'Like what you see? Visit the ' +\n",
              "          '<a target=\"_blank\" href=https://colab.research.google.com/notebooks/data_table.ipynb>data table notebook</a>'\n",
              "          + ' to learn more about interactive tables.';\n",
              "        element.innerHTML = '';\n",
              "        dataTable['output_type'] = 'display_data';\n",
              "        await google.colab.output.renderOutput(dataTable, element);\n",
              "        const docLink = document.createElement('div');\n",
              "        docLink.innerHTML = docLinkHtml;\n",
              "        element.appendChild(docLink);\n",
              "      }\n",
              "    </script>\n",
              "  </div>\n",
              "\n",
              "\n",
              "<div id=\"df-f00c1643-f7de-471b-81ae-5a6b3c40cb01\">\n",
              "  <button class=\"colab-df-quickchart\" onclick=\"quickchart('df-f00c1643-f7de-471b-81ae-5a6b3c40cb01')\"\n",
              "            title=\"Suggest charts.\"\n",
              "            style=\"display:none;\">\n",
              "\n",
              "<svg xmlns=\"http://www.w3.org/2000/svg\" height=\"24px\"viewBox=\"0 0 24 24\"\n",
              "     width=\"24px\">\n",
              "    <g>\n",
              "        <path d=\"M19 3H5c-1.1 0-2 .9-2 2v14c0 1.1.9 2 2 2h14c1.1 0 2-.9 2-2V5c0-1.1-.9-2-2-2zM9 17H7v-7h2v7zm4 0h-2V7h2v10zm4 0h-2v-4h2v4z\"/>\n",
              "    </g>\n",
              "</svg>\n",
              "  </button>\n",
              "\n",
              "<style>\n",
              "  .colab-df-quickchart {\n",
              "      --bg-color: #E8F0FE;\n",
              "      --fill-color: #1967D2;\n",
              "      --hover-bg-color: #E2EBFA;\n",
              "      --hover-fill-color: #174EA6;\n",
              "      --disabled-fill-color: #AAA;\n",
              "      --disabled-bg-color: #DDD;\n",
              "  }\n",
              "\n",
              "  [theme=dark] .colab-df-quickchart {\n",
              "      --bg-color: #3B4455;\n",
              "      --fill-color: #D2E3FC;\n",
              "      --hover-bg-color: #434B5C;\n",
              "      --hover-fill-color: #FFFFFF;\n",
              "      --disabled-bg-color: #3B4455;\n",
              "      --disabled-fill-color: #666;\n",
              "  }\n",
              "\n",
              "  .colab-df-quickchart {\n",
              "    background-color: var(--bg-color);\n",
              "    border: none;\n",
              "    border-radius: 50%;\n",
              "    cursor: pointer;\n",
              "    display: none;\n",
              "    fill: var(--fill-color);\n",
              "    height: 32px;\n",
              "    padding: 0;\n",
              "    width: 32px;\n",
              "  }\n",
              "\n",
              "  .colab-df-quickchart:hover {\n",
              "    background-color: var(--hover-bg-color);\n",
              "    box-shadow: 0 1px 2px rgba(60, 64, 67, 0.3), 0 1px 3px 1px rgba(60, 64, 67, 0.15);\n",
              "    fill: var(--button-hover-fill-color);\n",
              "  }\n",
              "\n",
              "  .colab-df-quickchart-complete:disabled,\n",
              "  .colab-df-quickchart-complete:disabled:hover {\n",
              "    background-color: var(--disabled-bg-color);\n",
              "    fill: var(--disabled-fill-color);\n",
              "    box-shadow: none;\n",
              "  }\n",
              "\n",
              "  .colab-df-spinner {\n",
              "    border: 2px solid var(--fill-color);\n",
              "    border-color: transparent;\n",
              "    border-bottom-color: var(--fill-color);\n",
              "    animation:\n",
              "      spin 1s steps(1) infinite;\n",
              "  }\n",
              "\n",
              "  @keyframes spin {\n",
              "    0% {\n",
              "      border-color: transparent;\n",
              "      border-bottom-color: var(--fill-color);\n",
              "      border-left-color: var(--fill-color);\n",
              "    }\n",
              "    20% {\n",
              "      border-color: transparent;\n",
              "      border-left-color: var(--fill-color);\n",
              "      border-top-color: var(--fill-color);\n",
              "    }\n",
              "    30% {\n",
              "      border-color: transparent;\n",
              "      border-left-color: var(--fill-color);\n",
              "      border-top-color: var(--fill-color);\n",
              "      border-right-color: var(--fill-color);\n",
              "    }\n",
              "    40% {\n",
              "      border-color: transparent;\n",
              "      border-right-color: var(--fill-color);\n",
              "      border-top-color: var(--fill-color);\n",
              "    }\n",
              "    60% {\n",
              "      border-color: transparent;\n",
              "      border-right-color: var(--fill-color);\n",
              "    }\n",
              "    80% {\n",
              "      border-color: transparent;\n",
              "      border-right-color: var(--fill-color);\n",
              "      border-bottom-color: var(--fill-color);\n",
              "    }\n",
              "    90% {\n",
              "      border-color: transparent;\n",
              "      border-bottom-color: var(--fill-color);\n",
              "    }\n",
              "  }\n",
              "</style>\n",
              "\n",
              "  <script>\n",
              "    async function quickchart(key) {\n",
              "      const quickchartButtonEl =\n",
              "        document.querySelector('#' + key + ' button');\n",
              "      quickchartButtonEl.disabled = true;  // To prevent multiple clicks.\n",
              "      quickchartButtonEl.classList.add('colab-df-spinner');\n",
              "      try {\n",
              "        const charts = await google.colab.kernel.invokeFunction(\n",
              "            'suggestCharts', [key], {});\n",
              "      } catch (error) {\n",
              "        console.error('Error during call to suggestCharts:', error);\n",
              "      }\n",
              "      quickchartButtonEl.classList.remove('colab-df-spinner');\n",
              "      quickchartButtonEl.classList.add('colab-df-quickchart-complete');\n",
              "    }\n",
              "    (() => {\n",
              "      let quickchartButtonEl =\n",
              "        document.querySelector('#df-f00c1643-f7de-471b-81ae-5a6b3c40cb01 button');\n",
              "      quickchartButtonEl.style.display =\n",
              "        google.colab.kernel.accessAllowed ? 'block' : 'none';\n",
              "    })();\n",
              "  </script>\n",
              "</div>\n",
              "    </div>\n",
              "  </div>\n"
            ]
          },
          "metadata": {},
          "execution_count": 76
        }
      ]
    },
    {
      "cell_type": "code",
      "source": [
        "df.columns"
      ],
      "metadata": {
        "colab": {
          "base_uri": "https://localhost:8080/"
        },
        "id": "W7nFBynY-sre",
        "outputId": "5139fde1-965a-4144-ba36-f923de570579"
      },
      "execution_count": 77,
      "outputs": [
        {
          "output_type": "execute_result",
          "data": {
            "text/plain": [
              "Index(['x0', 'x1', 'x2', 'x3', 'x4', 'x5', 'y'], dtype='object')"
            ]
          },
          "metadata": {},
          "execution_count": 77
        }
      ]
    },
    {
      "cell_type": "code",
      "source": [
        "df.y.value_counts ()"
      ],
      "metadata": {
        "colab": {
          "base_uri": "https://localhost:8080/"
        },
        "id": "esJuDXK46Fmo",
        "outputId": "fd4c17ab-6408-4ab4-ef2d-8728a83218a1"
      },
      "execution_count": 78,
      "outputs": [
        {
          "output_type": "execute_result",
          "data": {
            "text/plain": [
              "1    1856\n",
              "2    1836\n",
              "0     178\n",
              "Name: y, dtype: int64"
            ]
          },
          "metadata": {},
          "execution_count": 78
        }
      ]
    },
    {
      "cell_type": "code",
      "source": [
        "y = df[\"y\"].values\n",
        "df.drop(columns=[\"y\"], inplace=True)\n",
        "X = df.values\n",
        "\n",
        "y_test = df_test[\"y\"].values\n",
        "df_test.drop(columns=[\"y\"], inplace=True)\n",
        "X_test = df_test.values\n",
        "\n",
        "print(X)\n",
        "print(y)"
      ],
      "metadata": {
        "colab": {
          "base_uri": "https://localhost:8080/"
        },
        "id": "rSb15MDIjEFz",
        "outputId": "46322da0-9267-433c-f254-fe431313d627"
      },
      "execution_count": 79,
      "outputs": [
        {
          "output_type": "stream",
          "name": "stdout",
          "text": [
            "[[  -0.33348927   -0.7702077    -2.69748604   -0.62856274   -1.27772042\n",
            "   100.        ]\n",
            " [  -0.7871239     1.23080016    1.41547226   -0.8059272     0.1751147\n",
            "   100.        ]\n",
            " [   0.78119711   -0.85622725    2.13887864    2.49541712    0.86819164\n",
            "   100.        ]\n",
            " ...\n",
            " [   1.19101444   -1.72465036   -1.17854745   -1.54881816   -1.51740071\n",
            "  -100.        ]\n",
            " [  -2.03358571   -0.23977122    1.21509471    0.86023614    0.69816843\n",
            "   100.        ]\n",
            " [   0.15125519   -1.21711969    2.77498591    0.7090941     0.89159205\n",
            "  -100.        ]]\n",
            "[2 1 1 ... 2 1 1]\n"
          ]
        }
      ]
    },
    {
      "cell_type": "code",
      "source": [
        "plt.scatter(X[:,0], X[:,1], c=list(y))"
      ],
      "metadata": {
        "colab": {
          "base_uri": "https://localhost:8080/",
          "height": 447
        },
        "id": "VoOGZD6pjNIi",
        "outputId": "7856a71c-7336-470b-ff21-05ed916eb279"
      },
      "execution_count": 80,
      "outputs": [
        {
          "output_type": "execute_result",
          "data": {
            "text/plain": [
              "<matplotlib.collections.PathCollection at 0x790efad76860>"
            ]
          },
          "metadata": {},
          "execution_count": 80
        },
        {
          "output_type": "display_data",
          "data": {
            "text/plain": [
              "<Figure size 640x480 with 1 Axes>"
            ],
            "image/png": "[encoded data removed]"
          },
          "metadata": {}
        }
      ]
    },
    {
      "cell_type": "markdown",
      "source": [
        "## Improve ML model via data-centric techniques"
      ],
      "metadata": {
        "id": "ltlxuvpEji63"
      }
    },
    {
      "cell_type": "code",
      "source": [
        "def train_model(X, y, X_test, y_test):\n",
        "  model = MLPClassifier(early_stopping=True, random_state=SEED)\n",
        "  model.fit(X, y)\n",
        "  predictions = model.predict(X_test)\n",
        "  acc = balanced_accuracy_score(y_true=y_test, y_pred=predictions)\n",
        "  print(f\"Balanced Accuracy = {acc}\")\n",
        "  return predictions"
      ],
      "metadata": {
        "id": "1ApdAnyOjihx"
      },
      "execution_count": 81,
      "outputs": []
    },
    {
      "cell_type": "code",
      "source": [
        "predictions = train_model(X, y, X_test, y_test)"
      ],
      "metadata": {
        "colab": {
          "base_uri": "https://localhost:8080/"
        },
        "id": "luXuLeiqjQn5",
        "outputId": "d36f94ad-5cd4-4dfe-e9f3-d89c97cb3e17"
      },
      "execution_count": 82,
      "outputs": [
        {
          "output_type": "stream",
          "name": "stdout",
          "text": [
            "Balanced Accuracy = 0.5791043660350188\n"
          ]
        }
      ]
    },
    {
      "cell_type": "code",
      "source": [
        "from sklearn.metrics import confusion_matrix, precision_score, recall_score\n",
        "\n",
        "matrix = confusion_matrix(y_test, predictions)\n",
        "print(confusion_matrix)\n",
        "print(f\"Per-class accuracies: {matrix.diagonal()/matrix.sum(axis=1)}\")\n",
        "print(precision_score(y_test, predictions, average='weighted'))\n",
        "print(recall_score(y_test, predictions, average='weighted'))"
      ],
      "metadata": {
        "colab": {
          "base_uri": "https://localhost:8080/"
        },
        "id": "pwO7YdMokFum",
        "outputId": "24282c13-083a-4488-c91c-25bd536e486a"
      },
      "execution_count": 83,
      "outputs": [
        {
          "output_type": "stream",
          "name": "stdout",
          "text": [
            "<function confusion_matrix at 0x790f0097af80>\n",
            "Per-class accuracies: [0.00561798 0.88038793 0.85130719]\n",
            "0.8353634851519411\n",
            "0.8263565891472868\n"
          ]
        }
      ]
    },
    {
      "cell_type": "code",
      "source": [
        "# ## Completely removed the class which has minimal number of instances.\n",
        "\n",
        "# dataset = pd.read_csv('/content/train_dcai_evaluation.csv')\n",
        "# dataset = dataset[dataset['y'] != 0]\n",
        "# dataset.y.value_counts()\n",
        "\n",
        "# dataset_test = pd.read_csv('/content/train_dcai_evaluation.csv')\n",
        "# dataset_test = dataset[dataset['y'] != 0]\n",
        "# dataset_test.y.value_counts()\n",
        "\n",
        "# train_model(dataset.drop('y', axis=1), dataset.y, dataset_test.drop('y', axis=1), dataset_test.y )    ## Balanced Accuracy = 0.8675631291788746"
      ],
      "metadata": {
        "colab": {
          "base_uri": "https://localhost:8080/"
        },
        "id": "94-KsbV78jIe",
        "outputId": "65b2558e-736f-4bcd-d5e4-fa18dee7f08d"
      },
      "execution_count": 89,
      "outputs": [
        {
          "output_type": "stream",
          "name": "stdout",
          "text": [
            "Balanced Accuracy = 0.8675631291788746\n"
          ]
        },
        {
          "output_type": "execute_result",
          "data": {
            "text/plain": [
              "array([2, 1, 1, ..., 2, 1, 1])"
            ]
          },
          "metadata": {},
          "execution_count": 89
        }
      ]
    },
    {
      "cell_type": "code",
      "source": [
        "# ## Evaluating model by doing standardization on data\n",
        "\n",
        "# from sklearn.preprocessing import StandardScaler\n",
        "\n",
        "# scaler = StandardScaler()\n",
        "# x_train_scaled = scaler.fit_transform(X)\n",
        "# x_test_scaled = scaler.fit_transform(X_test)\n",
        "\n",
        "# train_model(x_train_scaled, y, x_test_scaled, y_test)  ## Balanced Accuracy = 0.5844249792559841"
      ],
      "metadata": {
        "id": "RAbTI7qV8jF2"
      },
      "execution_count": 85,
      "outputs": []
    },
    {
      "cell_type": "code",
      "source": [
        "# ## Evaluating model by doing normalizing on data\n",
        "\n",
        "# from sklearn.preprocessing import MinMaxScaler\n",
        "\n",
        "# min_max_scaler = MinMaxScaler()\n",
        "# x_train_scaled = min_max_scaler.fit_transform(X)\n",
        "# x_test_scaled = min_max_scaler.fit_transform(X_test)\n",
        "\n",
        "# train_model(x_train_scaled, y, x_test_scaled, y_test)   ## Balanced Accuracy = 0.5747134262389503"
      ],
      "metadata": {
        "id": "g-elY-6o8jC4"
      },
      "execution_count": 86,
      "outputs": []
    },
    {
      "cell_type": "code",
      "source": [
        "from cleanlab.outlier import OutOfDistribution\n",
        "rare_class=0\n",
        "# n_outlier = 100  # try different values to determine good one\n",
        "for n_outlier in range(20, 150, 20):\n",
        "  knn = sklearn.neighbors.NearestNeighbors(n_neighbors=10).fit(X)\n",
        "  ood = OutOfDistribution({\"knn\": knn})\n",
        "  ood_scores = ood.score(features=X)\n",
        "  outlier_examples = np.argsort(ood_scores)[:n_outlier]\n",
        "  outlier_examples = [out for out in outlier_examples if y[out] != rare_class]  # do not delete rare-class examples\n",
        "\n",
        "  X = np.delete(X, outlier_examples, axis=0)\n",
        "  y =  np.delete(y, outlier_examples)\n",
        "  print(f'for {n_outlier} balanced accuracy is:{predictions = train_model(X, y, X_test, y_test)}')\n",
        ""
      ],
      "metadata": {
        "colab": {
          "base_uri": "https://localhost:8080/"
        },
        "id": "cr9EFUu28i_9",
        "outputId": "dcd82851-a990-4d25-99cf-acd7befa4a12"
      },
      "execution_count": 99,
      "outputs": [
        {
          "output_type": "stream",
          "name": "stdout",
          "text": [
            "Balanced Accuracy = 0.8137517851178814\n"
          ]
        }
      ]
    },
    {
      "cell_type": "code",
      "source": [
        "\n",
        "n_upsample = 10\n",
        "\n",
        "rareclass_X = X[y == rare_class,:]\n",
        "for n in range(n_upsample):\n",
        "    X = np.concatenate((X, rareclass_X + 0.001*np.random.rand(rareclass_X.shape[0],rareclass_X.shape[1])))\n",
        "\n",
        "y = np.concatenate((y, np.array([rare_class]*int(n_upsample*np.sum(y==rare_class)))))\n"
      ],
      "metadata": {
        "colab": {
          "base_uri": "https://localhost:8080/"
        },
        "id": "xdj095a78itX",
        "outputId": "ee2f5aa4-31a0-43b7-f3fd-033907572d44"
      },
      "execution_count": 103,
      "outputs": [
        {
          "output_type": "stream",
          "name": "stdout",
          "text": [
            "len before upsampling: 2607710\n",
            "len after upsampling: 28668690\n"
          ]
        }
      ]
    },
    {
      "cell_type": "code",
      "source": [
        "train_model(X, y, X_test, y_test)"
      ],
      "metadata": {
        "id": "QZzgqF9GJQxu"
      },
      "execution_count": null,
      "outputs": []
    },
    {
      "cell_type": "markdown",
      "source": [
        "## One variant of this is to train a separate model on just the subgroup where our original model underperforms and then ensemble the two models\n",
        "\n",
        "## some data may not have obvious slices, for example a coleection of documents or images, how can we identify subgroups where our model underforms?\n",
        "\n",
        "1. sort examples in the validation data by their loss value, and look at the example with high loss for which your model is making the worst predictions (Error Analysis)\n",
        "\n",
        "2. Apply clustering to these examples with high loss to uncover clusters that share common themes amongst these examples\n",
        "\n",
        "\n",
        "### To catch outliers encountered during deployment, include Out-of-Distribution in your ML pipeline"
      ],
      "metadata": {
        "id": "9xwvqH-u1LDi"
      }
    },
    {
      "cell_type": "code",
      "source": [],
      "metadata": {
        "id": "sfUTfrrb1UU5"
      },
      "execution_count": 88,
      "outputs": []
    }
  ]
}